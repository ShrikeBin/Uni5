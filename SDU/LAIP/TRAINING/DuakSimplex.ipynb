{
 "cells": [
  {
   "cell_type": "markdown",
   "id": "790ced06",
   "metadata": {},
   "source": [
    "# Dual Simplex examlpe\n",
    "### problem as follows:\n",
    "$$\n",
    "\\max \\ \\ x_1 + 3x_2 \\\\\n",
    "\\begin{align*}\n",
    "\\\\\n",
    "\\  x_1 & + x_2 & \\leq 8\\\\\n",
    "\\ -2x_1 & + 7x_2 & \\leq 20\\\\\n",
    "\\  2x_1 & -3x_2   &\\leq -5\\\\\n",
    "\\end{align*}\n",
    "$$"
   ]
  },
  {
   "cell_type": "code",
   "execution_count": 9,
   "id": "1eb59ad9",
   "metadata": {},
   "outputs": [
    {
     "name": "stdout",
     "output_type": "stream",
     "text": [
      "|-------+-------+-------+-------+-------+-------+-------+\n",
      "|    x1 |    x2 |    x3 |    x4 |    x5 |    -z |     b |\n",
      "|-------+-------+-------+-------+-------+-------+-------+\n",
      "|     1 |     1 |     1 |     0 |     0 |     0 |     8 |\n",
      "|    -2 |     7 |     0 |     1 |     0 |     0 |    20 |\n",
      "|     2 |    -3 |     0 |     0 |     1 |     0 |    -5 |\n",
      "|-------+-------+-------+-------+-------+-------+-------+\n",
      "|     1 |     3 |     0 |     0 |     0 |     1 |     0 |\n",
      "|-------+-------+-------+-------+-------+-------+-------+\n"
     ]
    }
   ],
   "source": [
    "import numpy as np\n",
    "import util as u\n",
    "from fractions import Fraction\n",
    "\n",
    "SLACK_COUNT = 3\n",
    "\n",
    "A = np.array([[1, -2, 2],\n",
    "              [1,  7, -3]], dtype=object)\n",
    "C = np.array([1, 3], dtype=object)\n",
    "B = np.array([8, 20, -5], dtype=object)\n",
    "\n",
    "# Convert all entries to Fractions\n",
    "A = np.vectorize(Fraction)(A)\n",
    "C = np.vectorize(Fraction)(C)\n",
    "B = np.vectorize(Fraction)(B)\n",
    "\n",
    "# Build identity and zeros explicitly as Fractions\n",
    "I = np.array([[Fraction(int(i == j)) for j in range(SLACK_COUNT)] for i in range(SLACK_COUNT)], dtype=object)\n",
    "Z = np.array([Fraction(0) for _ in range(SLACK_COUNT)], dtype=object)\n",
    "\n",
    "# Build the tableau\n",
    "T = np.concatenate([A.T, I], axis=1)\n",
    "T = np.column_stack((T, Z))\n",
    "T = np.column_stack((T, B))\n",
    "T = np.vstack((T, np.concatenate([C, np.full(SLACK_COUNT, Fraction(0), dtype=object), [Fraction(1), Fraction(0)]])))\n",
    "\n",
    "u.tableau(T)\n"
   ]
  },
  {
   "cell_type": "code",
   "execution_count": 10,
   "id": "5c13276f",
   "metadata": {},
   "outputs": [
    {
     "name": "stdout",
     "output_type": "stream",
     "text": [
      "|-------+-------+-------+-------+-------+-------+-------+\n",
      "|    x1 |    x2 |    x3 |    x4 |    x5 |    -z |     b |\n",
      "|-------+-------+-------+-------+-------+-------+-------+\n",
      "|   5/3 |     0 |     1 |     0 |   1/3 |     0 |  19/3 |\n",
      "|   8/3 |     0 |     0 |     1 |   7/3 |     0 |  25/3 |\n",
      "|  -2/3 |     1 |     0 |     0 |  -1/3 |     0 |   5/3 |\n",
      "|-------+-------+-------+-------+-------+-------+-------+\n",
      "|     3 |     0 |     0 |     0 |     1 |     1 |    -5 |\n",
      "|-------+-------+-------+-------+-------+-------+-------+\n"
     ]
    }
   ],
   "source": [
    "# Is infeasible, perform Dual Simplex:\n",
    "\n",
    "# 2/1 = 2, -3/3 = -1\n",
    "# x2 enters, s3 leaves\n",
    "\n",
    "# III * -(1/3)\n",
    "T[2] = T[2] * Fraction(-1, 3)\n",
    "\n",
    "# I - III\n",
    "T[0] = T[0] - T[2]\n",
    "\n",
    "# II - 7 * III\n",
    "T[1] = T[1] - T[2] * Fraction(7)\n",
    "\n",
    "# IV - 2 * III\n",
    "T[3] = T[3] - T[2] * Fraction(3)\n",
    "\n",
    "# 1st iteration complete\n",
    "u.tableau(T)"
   ]
  },
  {
   "cell_type": "code",
   "execution_count": 11,
   "id": "4d758d46",
   "metadata": {},
   "outputs": [
    {
     "name": "stdout",
     "output_type": "stream",
     "text": [
      "|-------+-------+-------+-------+-------+-------+-------+\n",
      "|    x1 |    x2 |    x3 |    x4 |    x5 |    -z |     b |\n",
      "|-------+-------+-------+-------+-------+-------+-------+\n",
      "|     1 |     0 |   3/5 |     0 |   1/5 |     0 |  19/5 |\n",
      "|     0 |     0 |  -8/5 |     1 |   9/5 |     0 |  -9/5 |\n",
      "|     0 |     1 |   2/5 |     0 |  -1/5 |     0 |  21/5 |\n",
      "|-------+-------+-------+-------+-------+-------+-------+\n",
      "|     0 |     0 |  -9/5 |     0 |   2/5 |     1 | -82/5 |\n",
      "|-------+-------+-------+-------+-------+-------+-------+\n"
     ]
    }
   ],
   "source": [
    "# continue with normal Simplex from here\n",
    "\n",
    "# x1 enters, s1 leaves\n",
    "\n",
    "# I * 3/5\n",
    "T[0] = T[0] * Fraction(3, 5)\n",
    "\n",
    "# II - I * 8/3\n",
    "T[1] = T[1] - T[0] * Fraction(8, 3)\n",
    "\n",
    "# III + I * 2/3\n",
    "T[2] = T[2] + T[0] * Fraction(2, 3)\n",
    "\n",
    "# IV - 3 * I\n",
    "T[3] = T[3] - T[0] * Fraction(3)\n",
    "\n",
    "# 2nd iteration complete\n",
    "u.tableau(T)"
   ]
  },
  {
   "cell_type": "code",
   "execution_count": 12,
   "id": "871b2b21",
   "metadata": {},
   "outputs": [
    {
     "name": "stdout",
     "output_type": "stream",
     "text": [
      "|-------+-------+-------+-------+-------+-------+-------+\n",
      "|    x1 |    x2 |    x3 |    x4 |    x5 |    -z |     b |\n",
      "|-------+-------+-------+-------+-------+-------+-------+\n",
      "|     1 |     0 |     0 |   3/8 |   7/8 |     0 |  25/8 |\n",
      "|     0 |     0 |     1 |  -5/8 |  -9/8 |     0 |   9/8 |\n",
      "|     0 |     1 |     0 |   1/4 |   1/4 |     0 |  15/4 |\n",
      "|-------+-------+-------+-------+-------+-------+-------+\n",
      "|     0 |     0 |     0 |  -9/8 | -13/8 |     1 | -115/8 |\n",
      "|-------+-------+-------+-------+-------+-------+-------+\n"
     ]
    }
   ],
   "source": [
    "# again infeasible, perform Dual Simplex:\n",
    "\n",
    "# s1 enters, s2 leaves\n",
    "\n",
    "# II * -5/8\n",
    "T[1] = T[1] * Fraction(-5, 8)\n",
    "\n",
    "# I - II * 3/5\n",
    "T[0] = T[0] - T[1] * Fraction(3, 5)\n",
    "\n",
    "# III - II * 2/5\n",
    "T[2] = T[2] - T[1] * Fraction(2, 5)\n",
    "\n",
    "# IV + II * 9/5\n",
    "T[3] = T[3] + T[1] * Fraction(9, 5)\n",
    "\n",
    "# 3rd iteration complete\n",
    "u.tableau(T)"
   ]
  },
  {
   "cell_type": "markdown",
   "id": "c8710329",
   "metadata": {},
   "source": [
    "$$\n",
    "\\textbf{In Simplex:}\n",
    "$$\n",
    "\n",
    "$$\n",
    "j^* = \\arg\\max_j \\left( c_j \\cdot \\theta_j \\right),\n",
    "\\quad \\text{where} \\quad \n",
    "\\theta_j = \\min_i \\left\\{ \\frac{b_i}{a_{ij}} \\; : \\; a_{ij} > 0 \\right\\}\n",
    "$$\n",
    "\n",
    "$$\n",
    "\\text{Pivot on } (i^*, j^*) \\text{ where } \n",
    "i^* = \\min{i} \\text{ from chosen } \\theta_j\n",
    "$$\n",
    "\n",
    "---\n",
    "\n",
    "$$\n",
    "\\textbf{In Dual Simplex:}\n",
    "$$\n",
    "\n",
    "$$\n",
    "i^* = \\arg\\min_i \\{ b_i \\}\n",
    "\\quad \\text{(row with most negative } b_i)\n",
    "$$\n",
    "\n",
    "$$\n",
    "j^* = \\arg\\min_j \\left\\{ \\frac{c_j - z_j}{a_{i^*j}} \\; : \\; a_{i^*j} < 0 \\right\\}\n",
    "$$\n",
    "\n",
    "$$\n",
    "\\text{Pivot on } (i^*, j^*)\n",
    "$$\n"
   ]
  }
 ],
 "metadata": {
  "kernelspec": {
   "display_name": "Python 3",
   "language": "python",
   "name": "python3"
  },
  "language_info": {
   "codemirror_mode": {
    "name": "ipython",
    "version": 3
   },
   "file_extension": ".py",
   "mimetype": "text/x-python",
   "name": "python",
   "nbconvert_exporter": "python",
   "pygments_lexer": "ipython3",
   "version": "3.12.3"
  }
 },
 "nbformat": 4,
 "nbformat_minor": 5
}
