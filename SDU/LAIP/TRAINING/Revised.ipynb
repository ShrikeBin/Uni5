{
 "cells": [
  {
   "cell_type": "markdown",
   "id": "bd1d08f6",
   "metadata": {},
   "source": [
    "# Revised Simplex and sensitivity"
   ]
  }
 ],
 "metadata": {
  "language_info": {
   "name": "python"
  }
 },
 "nbformat": 4,
 "nbformat_minor": 5
}
