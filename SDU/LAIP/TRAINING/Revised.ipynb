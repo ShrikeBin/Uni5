{
 "cells": [
  {
   "cell_type": "markdown",
   "id": "bd1d08f6",
   "metadata": {},
   "source": [
    "# Revised Simplex and sensitivity"
   ]
  },
  {
   "cell_type": "code",
   "execution_count": 26,
   "id": "a2592b84",
   "metadata": {},
   "outputs": [
    {
     "name": "stdout",
     "output_type": "stream",
     "text": [
      "|-------+-------+-------+-------+-------+-------+-------+-------+\n",
      "|    x1 |    x2 |    x3 |    x4 |    x5 |    x6 |    -z |     b |\n",
      "|-------+-------+-------+-------+-------+-------+-------+-------+\n",
      "|     1 |     1 |    -1 |     0 |     1 |    -1 |     0 |     1 |\n",
      "|     2 |     0 |     3 |     1 |    -1 |     2 |     0 |     3 |\n",
      "|-------+-------+-------+-------+-------+-------+-------+-------+\n",
      "|    -3 |     0 |    -2 |     0 |     0 |     0 |     1 |    -9 |\n",
      "|-------+-------+-------+-------+-------+-------+-------+-------+\n"
     ]
    }
   ],
   "source": [
    "import numpy as np\n",
    "import util as u\n",
    "from fractions import Fraction\n",
    "\n",
    "SLACK_COUNT = 2\n",
    "\n",
    "A = np.array([[1, 1, -1, 0],\n",
    "              [2,  0, 3, 1]], dtype=object)\n",
    "C = np.array([-3, 0, -2, 0], dtype=object)\n",
    "B = np.array([1, 3], dtype=object)\n",
    "\n",
    "# Convert all entries to Fractions\n",
    "A = np.vectorize(Fraction)(A)\n",
    "C = np.vectorize(Fraction)(C)\n",
    "B = np.vectorize(Fraction)(B)\n",
    "\n",
    "# Build identity and zeros explicitly as Fractions\n",
    "I = np.array([[Fraction(int(i == j)) for j in range(SLACK_COUNT)] for i in range(SLACK_COUNT)], dtype=object)\n",
    "Z = np.array([Fraction(0) for _ in range(SLACK_COUNT)], dtype=object)\n",
    "\n",
    "# Build the tableau\n",
    "T = np.concatenate([A, I], axis=1)\n",
    "T = np.column_stack((T, Z))\n",
    "T = np.column_stack((T, B))\n",
    "T = np.vstack((T, np.concatenate([C, np.full(SLACK_COUNT, Fraction(0), dtype=object), [Fraction(1), Fraction(0)]])))\n",
    "\n",
    "T[0, 4] = Fraction(1)\n",
    "T[1, 4] = Fraction(-1)\n",
    "T[0, 5] = Fraction(-1)\n",
    "T[1, 5] = Fraction(2)\n",
    "T[2, 7] = Fraction(-9)\n",
    "\n",
    "u.tableau(T)"
   ]
  },
  {
   "cell_type": "markdown",
   "id": "a673c684",
   "metadata": {},
   "source": [
    "### 1) 4th constraint increase by 1"
   ]
  },
  {
   "cell_type": "code",
   "execution_count": null,
   "id": "ded4e3d3",
   "metadata": {},
   "outputs": [],
   "source": [
    "# increase 4th constraint by 1\n",
    "\n",
    "T[2, 3] = Fraction(1)\n",
    "T[2] = T[2] - T[1]\n",
    "\n",
    "u.tableau(T)\n",
    "\n",
    "# x5 enters x2 leaves\n",
    "\n",
    "T[1] = T[1] + T[0]\n",
    "T[2] = T[2] - T[0]\n",
    "\n",
    "u.tableau(T)"
   ]
  },
  {
   "cell_type": "markdown",
   "id": "9e1cbf01",
   "metadata": {},
   "source": [
    "### 2) 2nd constraint increase by 1"
   ]
  },
  {
   "cell_type": "code",
   "execution_count": null,
   "id": "c972d1cc",
   "metadata": {},
   "outputs": [],
   "source": [
    "# increase 2nd constraint by 1\n",
    "\n",
    "T[2, 1] = Fraction(1)\n",
    "T[2] = T[2] - T[0]\n",
    "\n",
    "# x6 enters x4 leaves\n",
    "T[1] = T[1] / Fraction(2)\n",
    "T[0] = T[0] + T[1]\n",
    "T[2] = T[2] - T[1]\n",
    "\n",
    "u.tableau(T)"
   ]
  }
 ],
 "metadata": {
  "kernelspec": {
   "display_name": "Python 3",
   "language": "python",
   "name": "python3"
  },
  "language_info": {
   "codemirror_mode": {
    "name": "ipython",
    "version": 3
   },
   "file_extension": ".py",
   "mimetype": "text/x-python",
   "name": "python",
   "nbconvert_exporter": "python",
   "pygments_lexer": "ipython3",
   "version": "3.12.3"
  }
 },
 "nbformat": 4,
 "nbformat_minor": 5
}
