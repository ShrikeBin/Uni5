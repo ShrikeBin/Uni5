{
 "cells": [
  {
   "cell_type": "markdown",
   "id": "790ced06",
   "metadata": {},
   "source": [
    "# Simplex example\n",
    "### problem as follows:\n",
    "$$\n",
    "\\max \\ \\ x1 + 3x2 \\\\\n",
    "\\begin{align*}\n",
    "\\\\\n",
    "\\  x_1 & + x_2 & \\leq 8\\\\\n",
    "\\ -2x_1 & + 7x_2 & \\leq 20\\\\\n",
    "\\  x_1 & +   &\\leq 5\\\\\n",
    "\\end{align*}\n",
    "$$"
   ]
  },
  {
   "cell_type": "code",
   "execution_count": null,
   "id": "1eb59ad9",
   "metadata": {},
   "outputs": [],
   "source": [
    "import numpy as np\n",
    "import util as u\n",
    "from fractions import Fraction\n",
    "\n",
    "SLACK_COUNT = 3\n",
    "\n",
    "A = np.array([[1, -2, 1],\n",
    "              [1,  7, 0]], dtype=object)\n",
    "C = np.array([1, 3], dtype=object)\n",
    "B = np.array([8, 20, 5], dtype=object)\n",
    "\n",
    "# Convert all entries to Fractions\n",
    "A = np.vectorize(Fraction)(A)\n",
    "C = np.vectorize(Fraction)(C)\n",
    "B = np.vectorize(Fraction)(B)\n",
    "\n",
    "# Build identity and zeros explicitly as Fractions\n",
    "I = np.array([[Fraction(int(i == j)) for j in range(SLACK_COUNT)] for i in range(SLACK_COUNT)], dtype=object)\n",
    "Z = np.array([Fraction(0) for _ in range(SLACK_COUNT)], dtype=object)\n",
    "\n",
    "# Build the tableau\n",
    "T = np.concatenate([A.T, I], axis=1)\n",
    "T = np.column_stack((T, Z))\n",
    "T = np.column_stack((T, B))\n",
    "T = np.vstack((T, np.concatenate([C, np.full(SLACK_COUNT, Fraction(0), dtype=object), [Fraction(1), Fraction(0)]])))\n",
    "\n",
    "u.tableau(T)\n"
   ]
  },
  {
   "cell_type": "code",
   "execution_count": null,
   "id": "5c13276f",
   "metadata": {},
   "outputs": [],
   "source": [
    "# x2 enters, s2 leaves\n",
    "\n",
    "# II * 1/7\n",
    "T[1] = T[1] / 7\n",
    "\n",
    "# I - II\n",
    "T[0] = T[0] - T[1]\n",
    "\n",
    "# IV - 3 * II\n",
    "T[3] = T[3] - 3 * T[1]\n",
    "\n",
    "# 1st iteration complete\n",
    "u.tableau(T)"
   ]
  },
  {
   "cell_type": "code",
   "execution_count": null,
   "id": "a1c09e4a",
   "metadata": {},
   "outputs": [],
   "source": [
    "# x1 enters, s1 leaves\n",
    "\n",
    "# I * 7/9\n",
    "T[0] = T[0] * Fraction(7, 9)\n",
    "\n",
    "# II + 2/7 * I\n",
    "T[1] = T[1] + Fraction(2, 7) * T[0]\n",
    "\n",
    "# III - I\n",
    "T[2] = T[2] - T[0]\n",
    "\n",
    "# IV - 13/7 * I\n",
    "T[3] = T[3] - Fraction(13, 7) * T[0]\n",
    "\n",
    "# 2nd iteration complete\n",
    "u.tableau(T)"
   ]
  }
 ],
 "metadata": {
  "kernelspec": {
   "display_name": "Python 3",
   "language": "python",
   "name": "python3"
  },
  "language_info": {
   "codemirror_mode": {
    "name": "ipython",
    "version": 3
   },
   "file_extension": ".py",
   "mimetype": "text/x-python",
   "name": "python",
   "nbconvert_exporter": "python",
   "pygments_lexer": "ipython3",
   "version": "3.12.3"
  }
 },
 "nbformat": 4,
 "nbformat_minor": 5
}
