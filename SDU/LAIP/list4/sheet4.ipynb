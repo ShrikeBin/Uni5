{
 "cells": [
  {
   "cell_type": "markdown",
   "id": "790ced06",
   "metadata": {},
   "source": [
    "# Task2\n",
    "### problem as follows:\n",
    "$$\n",
    "\\max \\ \\ 19x_1 + 13x_2 + 12x_3 + 17x_4 \\\\\n",
    "\\begin{align*}\n",
    "\\\\\n",
    "\\ & 3x_1 & + & 2x_2 & + & 1x_3 & + & 2x_4 & \\leq 225\\\\\n",
    "\\ & x_1 & + & x_2 & + & x_3 & + & x_4 & \\leq 117\\\\\n",
    "\\ & 4x_1 & + & 3x_2 & + & 3x_3 & + & 4x_4 & \\leq 420\\\\\n",
    "\\end{align*}\n",
    "$$"
   ]
  },
  {
   "cell_type": "code",
   "execution_count": 27,
   "id": "1eb59ad9",
   "metadata": {},
   "outputs": [
    {
     "name": "stdout",
     "output_type": "stream",
     "text": [
      "|-------+-------+-------+-------+-------+-------+-------+-------+-------+\n",
      "|    x1 |    x2 |    x3 |    x4 |    x5 |    x6 |    x7 |    -z |     b |\n",
      "|-------+-------+-------+-------+-------+-------+-------+-------+-------+\n",
      "|   3.0 |   2.0 |   1.0 |   2.0 |   1.0 |   0.0 |   0.0 |   0.0 | 225.0 |\n",
      "|   1.0 |   1.0 |   1.0 |   1.0 |   0.0 |   1.0 |   0.0 |   0.0 | 117.0 |\n",
      "|   4.0 |   3.0 |   1.0 |   4.0 |   0.0 |   0.0 |   1.0 |   0.0 | 420.0 |\n",
      "|-------+-------+-------+-------+-------+-------+-------+-------+-------+\n",
      "|  19.0 |  13.0 |  12.0 |  17.0 |   0.0 |   0.0 |   0.0 |   1.0 |   0.0 |\n",
      "|-------+-------+-------+-------+-------+-------+-------+-------+-------+\n"
     ]
    }
   ],
   "source": [
    "import numpy as np\n",
    "import util as u\n",
    "from fractions import Fraction\n",
    "\n",
    "A = np.array([[3,1,4],\n",
    "             [2,1,3],\n",
    "             [1,1,1],\n",
    "             [2,1,4]])\n",
    "C = np.array([19,13,12,17])\n",
    "B = np.array([225,117,420])\n",
    "\n",
    "T = np.concatenate([A.T, np.identity(3)], axis=1)\n",
    "T = np.column_stack((T, np.zeros(3)))\n",
    "T = np.column_stack((T, B.T))\n",
    "T = np.vstack((T, np.concatenate([C, [0,0,0,1,0]])))\n",
    "u.tableau(T)\n"
   ]
  },
  {
   "cell_type": "markdown",
   "id": "cb49a4a9",
   "metadata": {},
   "source": [
    "$$\n",
    "\\begin{align*}\n",
    "\\ \\textit{We can start } & \\textit{Revised Simplex by creating:}\\\\\n",
    "\\ & A_b \\\\\n",
    "\\ & A_n \\\\\n",
    "\\ & A_b^{-1}A_n \\\\\n",
    "\\end{align*}\n",
    "$$"
   ]
  },
  {
   "cell_type": "code",
   "execution_count": 31,
   "id": "5c13276f",
   "metadata": {},
   "outputs": [
    {
     "name": "stdout",
     "output_type": "stream",
     "text": [
      "[[  3.   2.   1.   2.   1.   0.   0.   0. 225.]\n",
      " [  1.   1.   1.   1.   0.   1.   0.   0. 117.]\n",
      " [  4.   3.   1.   4.   0.   0.   1.   0. 420.]\n",
      " [ 19.  13.  12.  17.   0.   0.   0.   1.   0.]]\n"
     ]
    }
   ],
   "source": [
    "A_b = T\n",
    "A_n = T\n",
    "print(A_b)"
   ]
  },
  {
   "cell_type": "markdown",
   "id": "c5bdabd4",
   "metadata": {},
   "source": [
    "# ANWSERS\n",
    "\n",
    "- 1) \n",
    "- 2) \n",
    "- 3) at least 2 ( casue in last tableu its reduced cost is -1 so to make it stricty positive at least 2)\n",
    "- 4) dual variables = shadow price / marginal value = (-1) * (reduced costs of th slacks)\n",
    "- 5) all slacks are non in basis -> all constraints are tight -> slacks are not needed\n",
    "- 6) "
   ]
  }
 ],
 "metadata": {
  "kernelspec": {
   "display_name": "Python 3",
   "language": "python",
   "name": "python3"
  },
  "language_info": {
   "codemirror_mode": {
    "name": "ipython",
    "version": 3
   },
   "file_extension": ".py",
   "mimetype": "text/x-python",
   "name": "python",
   "nbconvert_exporter": "python",
   "pygments_lexer": "ipython3",
   "version": "3.12.3"
  }
 },
 "nbformat": 4,
 "nbformat_minor": 5
}
