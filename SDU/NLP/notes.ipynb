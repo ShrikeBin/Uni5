{
 "cells": [
  {
   "cell_type": "markdown",
   "id": "3ff7a4ae",
   "metadata": {},
   "source": [
    "# NOTES \n",
    "### stuff I found interesting on the slides"
   ]
  },
  {
   "cell_type": "markdown",
   "id": "e652076d",
   "metadata": {},
   "source": [
    "**30.09.2025** \n",
    "\n",
    "- *Model type summary* : \n",
    "    - `Bert -> Encoder`\n",
    "    - `T5   -> Encoder-Decoder`\n",
    "    - `GPT  -> Decoder`\n",
    "\n",
    "- *\"Funny Model you can just download and run\"* - Kimi K2\n",
    "    - `humble 1.04 trillion (10^12) params`\n",
    "    - **32 Billion active (192gb of VRAM)**\n",
    "    - *Well it's better than GPT 4.1 in coding..*\n",
    "\n",
    "- *Mixture of Experts (MoE)* :\n",
    "    - `Switch Transformers - Mixtrure of Experts - TopK-Gate` :\n",
    "        - Its like a set of small models called Experts, active at different times\n",
    "        - And a small network that \"chooses\" which Experts works on a certain Token\n",
    "        - Then we combine the anwsers, group by score, choose best k and aggregate\n",
    "        - **That is the general idea**\n",
    "\n",
    "- *RMSNorm* :\n",
    "    - `LayerNorm` :\n",
    "        - A way to normalize intermediate representation\n",
    "        - `x - E(X) / sqrt(Var(X))`\n",
    "    - `RMSNorm`\n",
    "        - A way to normalize intermediate representation a bit quicker\n",
    "        - `x / RMS = x / sqrt(1/n * sum(x^2))`\n",
    "\n",
    "- *Better ReLU* :\n",
    "    - `ELU`\n",
    "        - a bit \"bumpier\" ReLU\n",
    "    - `GELU`\n",
    "        - Gaussian Error Linear Unit\n",
    "        - a very pretty line looking like smoothed-out ReLU from -1 to +inf\n",
    "    - `Swish`\n",
    "        - Swish<sub>B</sub>(x) = sigmoid(Bx) * x\n",
    "        - when B set to ~1.700 it approximates GELU\n",
    "\n",
    "- *Gated Linear Units (GLUs)* :\n",
    "    - **GLU**\n",
    "        - `h = sigmoid(xW) * (xV)`   <- whatever this means...\n",
    "    - **SwiGLU** :\n",
    "        - `h = Swish(B)(xW) * (xV)`\n",
    "    - **FeedForward with SwiGLU**\n",
    "        - `(Swish(B)(xW1) * (xV))*W2`\n",
    "\n",
    "- *Rotary Position Embeddings* :\n",
    "    - ...dunno whattdat is\n",
    "    - GODDAMM the general form looks sick\n",
    "\n",
    "- ***MuonClip Optimizer***\n",
    "    - `AdamW optimizer` - Adaptive moment estimation\n",
    "        + BIG updates for rarely touched parameters\n",
    "        + Small updates for often tocuhed paramters\n",
    "        - **GREAT for overparamatrized models**\n",
    "        - the \"W\" - Fixed Weight Decay\n",
    "\n",
    "\n",
    "\n",
    "\n",
    "#### --- OK AM TIRE EXHAUST JUST LOOK A THE PRESENTATIONS ---"
   ]
  }
 ],
 "metadata": {
  "kernelspec": {
   "display_name": ".venv",
   "language": "python",
   "name": "python3"
  },
  "language_info": {
   "name": "python",
   "version": "3.12.3"
  }
 },
 "nbformat": 4,
 "nbformat_minor": 5
}
