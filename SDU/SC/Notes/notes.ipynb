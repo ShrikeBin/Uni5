{
 "cells": [
  {
   "cell_type": "markdown",
   "id": "45a9c6d3",
   "metadata": {},
   "source": [
    "## Notes from Scientific Programming\n",
    "\n",
    "Not much I presume...."
   ]
  },
  {
   "cell_type": "code",
   "execution_count": null,
   "id": "ab70829e",
   "metadata": {},
   "outputs": [],
   "source": [
    "from collections import namedtuple\n",
    "\n",
    "people = namedtuple('Person', ['first', 'last', 'address'])\n",
    "\n",
    "row = people('Francessco', 'Paltegumi', 'Bonanza')\n",
    "\n",
    "row.first"
   ]
  },
  {
   "cell_type": "code",
   "execution_count": null,
   "id": "47ead7a4",
   "metadata": {},
   "outputs": [],
   "source": [
    "from collections import Counter\n",
    "\n",
    "c = Counter('yeezzies')\n",
    "\n",
    "c\n",
    "\n",
    "# Count stuff xd"
   ]
  },
  {
   "cell_type": "code",
   "execution_count": null,
   "id": "3b438cf2",
   "metadata": {},
   "outputs": [],
   "source": [
    "from collections import defaultdict\n",
    "\n",
    "d = defaultdict(list)\n",
    "\n",
    "d['a'].append(1)\n",
    "d['a'].append(2)\n",
    "d['b'].append(3)\n",
    "\n",
    "d\n",
    "\n",
    "# Is a multi'dictionary"
   ]
  },
  {
   "cell_type": "code",
   "execution_count": null,
   "id": "0598a89f",
   "metadata": {},
   "outputs": [],
   "source": [
    "from collections import OrderedDict\n",
    "\n",
    "d = {'banana' : 3, 'apple' : 4, 'pear' : 1, 'orange' : 2}\n",
    "\n",
    "# sort by key\n",
    "OrderedDict(sorted(d.items(), key=lambda t: t[0]))\n",
    "\n",
    "# sort by value\n",
    "OrderedDict(sorted(d.items(), key=lambda t: t[1]))\n",
    "\n",
    "# sort by lenght\n",
    "OrderedDict(sorted(d.items(), key=lambda t: len(t[0])))"
   ]
  },
  {
   "cell_type": "code",
   "execution_count": null,
   "id": "60ef1669",
   "metadata": {},
   "outputs": [],
   "source": [
    "# theres a switch case in python (0) _ (0)\n",
    "\n",
    "match input:\n",
    "    case 0:\n",
    "        print(\"0\")\n",
    "    case 1:\n",
    "        print(\"1\")"
   ]
  },
  {
   "cell_type": "code",
   "execution_count": null,
   "id": "d27802e4",
   "metadata": {},
   "outputs": [],
   "source": [
    "# I am not going to write anything about for's and while's"
   ]
  },
  {
   "cell_type": "code",
   "execution_count": null,
   "id": "67b04a80",
   "metadata": {},
   "outputs": [],
   "source": [
    "# generators can stop themselves and remember when, then continue i.e. :\n",
    "# keyword: \"yield\"\n",
    "\n",
    "def generator(limit):\n",
    "    i = 1\n",
    "    while i < limit:\n",
    "        yield i\n",
    "        i += 1\n",
    "        \n",
    "for a in generator(10):\n",
    "    print(a)\n"
   ]
  },
  {
   "cell_type": "code",
   "execution_count": null,
   "id": "48ef0e3a",
   "metadata": {},
   "outputs": [],
   "source": [
    "# ok yield is cursed\n",
    "\n",
    "def cursed():\n",
    "    state = 0\n",
    "    while True:\n",
    "        x = yield state\n",
    "        state = state + x\n",
    "        if (state % 2 == 0):\n",
    "            state = state // 2\n",
    "        else:\n",
    "            state = 3 * state + 1\n",
    "            \n",
    "f = cursed()\n",
    "next(f)\n",
    "print(f.send(1))\n",
    "print(f.send(1))\n",
    "print(f.send(1))\n",
    "print(f.send(1))\n",
    "print(f.send(1))\n",
    "print(f.send(1))\n",
    "print(f.send(1))\n",
    "print(f.send(1))"
   ]
  },
  {
   "cell_type": "code",
   "execution_count": 36,
   "id": "6fcf0dd8",
   "metadata": {},
   "outputs": [],
   "source": [
    "# something about function wrappers, decorators etc"
   ]
  },
  {
   "cell_type": "code",
   "execution_count": null,
   "id": "d05e9e3d",
   "metadata": {},
   "outputs": [],
   "source": [
    "# module imports and stuff"
   ]
  }
 ],
 "metadata": {
  "kernelspec": {
   "display_name": "Python 3",
   "language": "python",
   "name": "python3"
  },
  "language_info": {
   "codemirror_mode": {
    "name": "ipython",
    "version": 3
   },
   "file_extension": ".py",
   "mimetype": "text/x-python",
   "name": "python",
   "nbconvert_exporter": "python",
   "pygments_lexer": "ipython3",
   "version": "3.12.3"
  }
 },
 "nbformat": 4,
 "nbformat_minor": 5
}
